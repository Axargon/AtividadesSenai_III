{
  "nbformat": 4,
  "nbformat_minor": 0,
  "metadata": {
    "colab": {
      "provenance": []
    },
    "kernelspec": {
      "name": "python3",
      "display_name": "Python 3"
    },
    "language_info": {
      "name": "python"
    }
  },
  "cells": [
    {
      "cell_type": "markdown",
      "source": [
        "Alex & Allan"
      ],
      "metadata": {
        "id": "Bj1Y_eWHX6gP"
      }
    },
    {
      "cell_type": "code",
      "execution_count": 3,
      "metadata": {
        "id": "TVxCOauDL90A"
      },
      "outputs": [],
      "source": [
        "import json\n",
        "from uuid import uuid4\n",
        "from typing import List, Dict\n",
        "\n",
        "class Transacao:\n",
        "    def __init__(self, remetente: str, destinatario: str, valor: float, motivo: str, status: str = \"PENDENTE\"):\n",
        "        self.id = str(uuid4())\n",
        "        self.remetente = remetente\n",
        "        self.destinatario = destinatario\n",
        "        self.valor = valor\n",
        "        self.motivo = motivo\n",
        "        self.status = status\n",
        "\n",
        "class GerenciadorTransacoes:\n",
        "    def __init__(self, arquivo_pendentes: str = \"transacoes_pendentes.json\"):\n",
        "        self.arquivo_pendentes = arquivo_pendentes\n",
        "        self.transacoes_pendentes: List[Transacao] = self._carregar_pendentes()\n",
        "\n",
        "    def _carregar_pendentes(self) -> List[Transacao]:\n",
        "        \"\"\"Carrega transações pendentes do arquivo JSON.\"\"\"\n",
        "        try:\n",
        "            with open(self.arquivo_pendentes, \"r\") as f:\n",
        "                dados = json.load(f)\n",
        "                return [Transacao(**t) for t in dados]\n",
        "        except FileNotFoundError:\n",
        "            return []\n",
        "\n",
        "    def _salvar_pendentes(self):\n",
        "        \"\"\"Salva transações pendentes no arquivo JSON.\"\"\"\n",
        "        with open(self.arquivo_pendentes, \"w\") as f:\n",
        "            json.dump([vars(t) for t in self.transacoes_pendentes], f, indent=4)\n",
        "\n",
        "    def criar_transacao_aluno(self, remetente: str, destinatario: str, valor: float, motivo: str) -> Transacao:\n",
        "        \"\"\"\n",
        "        Alunos criam transações PENDENTES (grupo → grupo).\n",
        "        Salva automaticamente no JSON.\n",
        "        \"\"\"\n",
        "        if remetente == \"PROFESSOR\":\n",
        "            raise ValueError(\"Alunos não podem usar remetente 'PROFESSOR'.\")\n",
        "\n",
        "        transacao = Transacao(remetente, destinatario, valor, motivo, \"PENDENTE\")\n",
        "        self.transacoes_pendentes.append(transacao)\n",
        "        self._salvar_pendentes()\n",
        "        return transacao\n",
        "\n",
        "    def criar_transacao_professor(self, destinatario: str, valor: float, motivo: str, senha: str) -> Transacao:\n",
        "        \"\"\"\n",
        "        Professor cria transações APROVADAS (professor → grupo).\n",
        "        Autenticação básica (em produção, use JWT/OAuth).\n",
        "        \"\"\"\n",
        "        SENHA_PROFESSOR = \"senha_secreta\"  # 👈 Substitua por variável de ambiente em produção\n",
        "\n",
        "        if senha != SENHA_PROFESSOR:\n",
        "            raise PermissionError(\"Acesso negado. Senha incorreta.\")\n",
        "\n",
        "        transacao = Transacao(\"PROFESSOR\", destinatario, valor, motivo, \"APROVADA\")\n",
        "        return transacao  # 👈 Não é salva em pendentes (outro grupo cuida disso)"
      ]
    },
    {
      "cell_type": "code",
      "source": [],
      "metadata": {
        "id": "GpQv--PHX5F2"
      },
      "execution_count": null,
      "outputs": []
    }
  ]
}